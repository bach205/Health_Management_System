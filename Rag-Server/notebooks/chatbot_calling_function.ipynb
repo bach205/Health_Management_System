{
 "cells": [
  {
   "cell_type": "markdown",
   "metadata": {},
   "source": [
    "doi output het roi moi tra ra response"
   ]
  },
  {
   "cell_type": "code",
   "execution_count": null,
   "metadata": {},
   "outputs": [],
   "source": [
    "def call_chatbot(question):\n",
    "  prompt = tokenizer.apply_chat_template(\n",
    "    [{\"role\": \"user\", \"content\": question}],\n",
    "    tokenize=False\n",
    "  )\n",
    "\n",
    "  inputs = tokenizer(prompt, return_tensors=\"pt\").to(model.device)\n",
    "  outputs = model.generate(**inputs, max_new_tokens=1024, temperature=0.7)\n",
    "  print(tokenizer.decode(outputs[0], skip_special_tokens=True))"
   ]
  },
  {
   "cell_type": "markdown",
   "metadata": {},
   "source": [
    "stream output"
   ]
  },
  {
   "cell_type": "code",
   "execution_count": null,
   "metadata": {},
   "outputs": [],
   "source": [
    "import torch\n",
    "\n",
    "def stream_chatbot(question):\n",
    "    prompt = tokenizer.apply_chat_template(\n",
    "        [{\"role\": \"user\", \"content\": question}],\n",
    "        tokenize=False\n",
    "    )\n",
    "    \n",
    "    inputs = tokenizer(prompt, return_tensors=\"pt\")\n",
    "    input_ids = inputs[\"input_ids\"]\n",
    "\n",
    "    generated = input_ids\n",
    "    past_key_values = None\n",
    "\n",
    "    model.eval()\n",
    "    with torch.no_grad():\n",
    "        outputs = model(\n",
    "                input_ids=generated[:, :-1],\n",
    "                past_key_values=past_key_values,\n",
    "                use_cache=True,\n",
    "            )\n",
    "        past_key_values = outputs.past_key_values\n",
    "        for _ in range(1024):  # max_new_tokens\n",
    "            outputs = model(\n",
    "                input_ids=generated[:, -1:],\n",
    "                past_key_values=past_key_values,\n",
    "                use_cache=True,\n",
    "            )\n",
    "\n",
    "            next_token_logits = outputs.logits[:, -1, :]\n",
    "            next_token = torch.argmax(next_token_logits, dim=-1, keepdim=True)\n",
    "\n",
    "            # In token mới ra ngay\n",
    "            new_text = tokenizer.decode(next_token[0],skip_special_tokens=True)\n",
    "\n",
    "            if(not is_answer):\n",
    "              if(new_text == \"\\n\\n\"):\n",
    "                is_answer = True\n",
    "            else:\n",
    "                print(new_text, end=\"\", flush=True)\n",
    "\n",
    "            # Kiểm tra nếu gặp <eos>\n",
    "            if next_token.item() == tokenizer.eos_token_id:\n",
    "                break\n",
    "\n",
    "            # Cập nhật\n",
    "            generated = torch.cat((generated, next_token), dim=1)\n",
    "            past_key_values = outputs.past_key_values"
   ]
  },
  {
   "cell_type": "code",
   "execution_count": null,
   "metadata": {},
   "outputs": [],
   "source": [
    "from fastapi import FastAPI\n",
    "from fastapi.responses import StreamingResponse\n",
    "import time\n",
    "\n",
    "app = FastAPI()\n",
    "\n",
    "def event_stream():\n",
    "    text = [\"Xin\", \" chào\", \" bạn\", \" nhé\", \"!\"]\n",
    "    for word in text:\n",
    "        time.sleep(0.5)  # Giả lập độ trễ như GPT\n",
    "        yield f\"data: {{\" \\\n",
    "              f\"\\\"choices\\\": [{{\\\"delta\\\": {{\\\"content\\\": \\\"{word}\\\"}}}}]\" \\\n",
    "              f\"}}\\n\\n\"\n",
    "    # Kết thúc\n",
    "    yield \"data: {\\\"choices\\\":[{\\\"delta\\\":{},\\\"finish_reason\\\":\\\"stop\\\"}]}\\n\\n\"\n",
    "\n",
    "@app.post(\"/chat/completion\")\n",
    "def chat_completion():\n",
    "    return StreamingResponse(event_stream(), media_type=\"text/event-stream\")"
   ]
  }
 ],
 "metadata": {
  "kernelspec": {
   "display_name": "rag",
   "language": "python",
   "name": "python3"
  },
  "language_info": {
   "name": "python",
   "version": "3.10.14"
  }
 },
 "nbformat": 4,
 "nbformat_minor": 2
}
